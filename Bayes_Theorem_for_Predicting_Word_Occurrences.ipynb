{
 "cells": [
  {
   "cell_type": "markdown",
   "id": "modular-pastor",
   "metadata": {},
   "source": [
    "## Bayes Theorem to Predict Occurrences of A Word after Another Word\n",
    "<p>A = probability of \"small\"</p>\n",
    "<p>B = probability of \"a\"</p>\n",
    "<p>A|B = probability of \"small\" after \"a\"</p>"
   ]
  },
  {
   "cell_type": "code",
   "execution_count": 1,
   "id": "knowing-cleaners",
   "metadata": {},
   "outputs": [],
   "source": [
    "import re"
   ]
  },
  {
   "cell_type": "code",
   "execution_count": 12,
   "id": "bright-prison",
   "metadata": {},
   "outputs": [],
   "source": [
    "s = \"A small dog jumped over the fence. The dog used its small paws to jump over the fence. The fence was no challenge. A small man had a llama, but the tall woman had a small alpaca.\""
   ]
  },
  {
   "cell_type": "code",
   "execution_count": 13,
   "id": "living-circumstances",
   "metadata": {},
   "outputs": [
    {
     "name": "stdout",
     "output_type": "stream",
     "text": [
      "a small dog jumped over the fence the dog used its small paws to jump over the fence the fence was no challenge a small man had a llama but the tall woman had a small alpaca\n"
     ]
    }
   ],
   "source": [
    "s = re.sub(r'[^\\w\\s]','',s)\n",
    "s = s.lower()\n",
    "print(s)"
   ]
  },
  {
   "cell_type": "code",
   "execution_count": 14,
   "id": "japanese-pierce",
   "metadata": {},
   "outputs": [
    {
     "name": "stdout",
     "output_type": "stream",
     "text": [
      "['a', 'small', 'dog', 'jumped', 'over', 'the', 'fence', 'the', 'dog', 'used', 'its', 'small', 'paws', 'to', 'jump', 'over', 'the', 'fence', 'the', 'fence', 'was', 'no', 'challenge', 'a', 'small', 'man', 'had', 'a', 'llama', 'but', 'the', 'tall', 'woman', 'had', 'a', 'small', 'alpaca']\n"
     ]
    }
   ],
   "source": [
    "w = re.split(\"\\s\", s)\n",
    "print(w)"
   ]
  },
  {
   "cell_type": "code",
   "execution_count": 15,
   "id": "approximate-syria",
   "metadata": {},
   "outputs": [
    {
     "name": "stdout",
     "output_type": "stream",
     "text": [
      "37\n"
     ]
    }
   ],
   "source": [
    "count = 0\n",
    "for i in w:\n",
    "    count += 1\n",
    "print(count)    "
   ]
  },
  {
   "cell_type": "code",
   "execution_count": 21,
   "id": "recent-receiver",
   "metadata": {},
   "outputs": [
    {
     "name": "stdout",
     "output_type": "stream",
     "text": [
      "A_counts =  4\n",
      "B_counts =  4\n",
      "A =  0.10810810810810811\n",
      "B =  0.10810810810810811\n"
     ]
    }
   ],
   "source": [
    "A_counts = 0\n",
    "for i in w:\n",
    "    if \"small\" == i:\n",
    "        A_counts += 1\n",
    "print(\"A_counts = \",A_counts)\n",
    "\n",
    "B_counts = 0\n",
    "for i in w:\n",
    "    if \"a\" == i:\n",
    "        B_counts += 1\n",
    "print(\"B_counts = \",B_counts)\n",
    "\n",
    "A = A_counts/count\n",
    "B = B_counts/count\n",
    "print(\"A = \",A)\n",
    "print(\"B = \",B)"
   ]
  },
  {
   "cell_type": "code",
   "execution_count": 23,
   "id": "affected-direction",
   "metadata": {},
   "outputs": [
    {
     "name": "stdout",
     "output_type": "stream",
     "text": [
      "BA_counts =  3\n",
      "BA =  0.75\n"
     ]
    }
   ],
   "source": [
    "BA_counts = 0\n",
    "for i in range(len(w)):\n",
    "    if w[i] == \"a\" and w[i+1] == \"small\":\n",
    "        BA_counts += 1\n",
    "print(\"BA_counts = \",BA_counts)\n",
    "    \n",
    "BA = BA_counts/A_counts\n",
    "print(\"BA = \",BA)"
   ]
  },
  {
   "cell_type": "code",
   "execution_count": 24,
   "id": "detailed-recall",
   "metadata": {},
   "outputs": [
    {
     "name": "stdout",
     "output_type": "stream",
     "text": [
      "Naive Bayes =  0.75\n"
     ]
    }
   ],
   "source": [
    "AB = (BA*A)/B\n",
    "print(\"Naive Bayes = \",AB)"
   ]
  },
  {
   "cell_type": "markdown",
   "id": "billion-preview",
   "metadata": {},
   "source": [
    "## Notes\n",
    "<p>This is more of a corpus linguistics issue, but I am trying to find the probability of \"small\", or any searched word, occurring after the indefinite determiner \"a\" in \"A small dog jumped over the fence. The dog used its small paws to jump over the fence. The fence was no challenge. A small man had a llama, but the tall woman had a small alpaca.\" </p>\n",
    "\n",
    "<p>A = probability of \"small\"</p>\n",
    "<p>B = probability of \"a\"</p>\n",
    "<p>A|B = probability of \"small\" after \"a\"</p>\n",
    "\n",
    "<p>This part involves a little math using Bayes Theorem.</p>\n",
    "<p>A|B = (B|A*A)/B</p>\n",
    "\n",
    "<p>I am just playing around with probability and doing it by hand to analyze a corpus, and I am just trying to check whether I figured this properly as I check the probability of the occurrences of words after one another by hand doing good ol' fashion math instead of over relying on modules and libraries from R or Python just to ensure I grasp this concept.</p>\n",
    "<p>Calculating this by hand, I get</p>\n",
    "<p>count of \"small\" =  4</p>\n",
    "<p>count of \"a\" =  4</p>\n",
    "<p>A =  0.10810810810810811</p>\n",
    "<p>B =  0.10810810810810811</p>\n",
    "<p>count of \"small\" occurring after \"a\" = 3</p>\n",
    "<p>BA =  0.75</p>\n",
    "<p>probability of \"small\" occurring after \"a\" = 0.75</p>"
   ]
  }
 ],
 "metadata": {
  "kernelspec": {
   "display_name": "Python 3",
   "language": "python",
   "name": "python3"
  },
  "language_info": {
   "codemirror_mode": {
    "name": "ipython",
    "version": 3
   },
   "file_extension": ".py",
   "mimetype": "text/x-python",
   "name": "python",
   "nbconvert_exporter": "python",
   "pygments_lexer": "ipython3",
   "version": "3.9.2"
  }
 },
 "nbformat": 4,
 "nbformat_minor": 5
}
